{
 "cells": [
  {
   "cell_type": "code",
   "execution_count": null,
   "id": "2c1c96d4",
   "metadata": {},
   "outputs": [],
   "source": [
    "print (\"Hello world\")\n"
   ]
  },
  {
   "cell_type": "code",
   "execution_count": null,
   "id": "a394c73a",
   "metadata": {},
   "outputs": [],
   "source": [
    "print (\"I love business analytics \")"
   ]
  },
  {
   "cell_type": "markdown",
   "id": "270359b0",
   "metadata": {},
   "source": [
    "### basics of python"
   ]
  },
  {
   "cell_type": "markdown",
   "id": "625d1501",
   "metadata": {},
   "source": [
    "## Basics of python"
   ]
  },
  {
   "cell_type": "markdown",
   "id": "4a4da3fb",
   "metadata": {},
   "source": [
    "# Basics of python"
   ]
  },
  {
   "cell_type": "markdown",
   "id": "9dd28727",
   "metadata": {},
   "source": [
    "#### Basics of python"
   ]
  },
  {
   "cell_type": "code",
   "execution_count": null,
   "id": "c4eb4f75",
   "metadata": {},
   "outputs": [],
   "source": [
    "35+74-212+64"
   ]
  },
  {
   "cell_type": "code",
   "execution_count": null,
   "id": "c59ff3c1",
   "metadata": {},
   "outputs": [],
   "source": [
    "23+56-34"
   ]
  },
  {
   "cell_type": "code",
   "execution_count": null,
   "id": "c045bf77",
   "metadata": {},
   "outputs": [],
   "source": [
    "a=5\n",
    "b=8\n",
    "c=a+b\n"
   ]
  },
  {
   "cell_type": "code",
   "execution_count": null,
   "id": "c9d655f2",
   "metadata": {},
   "outputs": [],
   "source": [
    "c"
   ]
  },
  {
   "cell_type": "code",
   "execution_count": null,
   "id": "09306b23",
   "metadata": {},
   "outputs": [],
   "source": [
    "print (c)"
   ]
  },
  {
   "cell_type": "code",
   "execution_count": null,
   "id": "65981044",
   "metadata": {},
   "outputs": [],
   "source": [
    "x=17\n",
    "y=21\n",
    "sub=x-y\n",
    "sub"
   ]
  },
  {
   "cell_type": "code",
   "execution_count": null,
   "id": "0b24c1e3",
   "metadata": {},
   "outputs": [],
   "source": [
    "a=5\n",
    "b=6\n",
    "c=a+b\n",
    "d=a-b\n",
    "c,d"
   ]
  },
  {
   "cell_type": "code",
   "execution_count": null,
   "id": "f1858cf3",
   "metadata": {},
   "outputs": [],
   "source": [
    "A=23\n",
    "B=13\n",
    "Diff=A-B\n",
    "Diff"
   ]
  },
  {
   "cell_type": "code",
   "execution_count": null,
   "id": "ccfbc822",
   "metadata": {},
   "outputs": [],
   "source": [
    "a = 5\n",
    "A = 4\n",
    "a+A"
   ]
  },
  {
   "cell_type": "code",
   "execution_count": null,
   "id": "b532d345",
   "metadata": {},
   "outputs": [],
   "source": [
    "a = 3+5+45+4+56\n",
    "a"
   ]
  },
  {
   "cell_type": "code",
   "execution_count": null,
   "id": "8dd1ad29",
   "metadata": {},
   "outputs": [],
   "source": [
    "a = (2+4+55+34 +4)\n",
    "a"
   ]
  },
  {
   "cell_type": "code",
   "execution_count": null,
   "id": "0d1417df",
   "metadata": {},
   "outputs": [],
   "source": [
    "a, b, c = 23,54,\"hii\"\n",
    "b,c"
   ]
  },
  {
   "cell_type": "code",
   "execution_count": null,
   "id": "dd82a4b3",
   "metadata": {},
   "outputs": [],
   "source": [
    "a = b = c = \"test\"\n",
    "b"
   ]
  },
  {
   "cell_type": "markdown",
   "id": "2338debb",
   "metadata": {},
   "source": [
    "## Data types"
   ]
  },
  {
   "cell_type": "code",
   "execution_count": null,
   "id": "60a2611b",
   "metadata": {},
   "outputs": [],
   "source": [
    "Name=shristi"
   ]
  },
  {
   "cell_type": "code",
   "execution_count": null,
   "id": "5bfa990d",
   "metadata": {},
   "outputs": [],
   "source": [
    "Name='shristi'"
   ]
  },
  {
   "cell_type": "code",
   "execution_count": null,
   "id": "4bdf4b39",
   "metadata": {},
   "outputs": [],
   "source": [
    "Name"
   ]
  },
  {
   "cell_type": "code",
   "execution_count": null,
   "id": "df5fbcc5",
   "metadata": {},
   "outputs": [],
   "source": [
    "a= \"shristi\"  # shristi is a string(text)\n",
    "type(a)"
   ]
  },
  {
   "cell_type": "code",
   "execution_count": null,
   "id": "46355bcc",
   "metadata": {},
   "outputs": [],
   "source": [
    "b = 5.2   # float-there is a decimal point\n",
    "type(b)"
   ]
  },
  {
   "cell_type": "code",
   "execution_count": null,
   "id": "e65fd6d1",
   "metadata": {},
   "outputs": [],
   "source": [
    "c=3   # integer-no decimal\n",
    "type(c)"
   ]
  },
  {
   "cell_type": "code",
   "execution_count": null,
   "id": "25e14295",
   "metadata": {},
   "outputs": [],
   "source": [
    "d=2j  #complex\n",
    "type(d)"
   ]
  },
  {
   "cell_type": "code",
   "execution_count": null,
   "id": "4fa143f5",
   "metadata": {},
   "outputs": [],
   "source": [
    "a=45\n",
    "b=1-3j\n",
    "c=54.5\n",
    "d=True\n",
    "e=\"True\"\n",
    "f=\"Raj\"\n"
   ]
  },
  {
   "cell_type": "code",
   "execution_count": null,
   "id": "a74e02a4",
   "metadata": {},
   "outputs": [],
   "source": [
    "type(a)"
   ]
  },
  {
   "cell_type": "code",
   "execution_count": null,
   "id": "914a477e",
   "metadata": {},
   "outputs": [],
   "source": [
    "type(b)"
   ]
  },
  {
   "cell_type": "code",
   "execution_count": null,
   "id": "c99a19d8",
   "metadata": {},
   "outputs": [],
   "source": [
    "type(c)"
   ]
  },
  {
   "cell_type": "code",
   "execution_count": null,
   "id": "5b7859ae",
   "metadata": {},
   "outputs": [],
   "source": [
    "type(d)"
   ]
  },
  {
   "cell_type": "code",
   "execution_count": null,
   "id": "1bc6c5ea",
   "metadata": {},
   "outputs": [],
   "source": [
    "type(e)"
   ]
  },
  {
   "cell_type": "code",
   "execution_count": null,
   "id": "8f94703e",
   "metadata": {},
   "outputs": [],
   "source": [
    "type(f)"
   ]
  },
  {
   "cell_type": "code",
   "execution_count": null,
   "id": "fd5847f2",
   "metadata": {},
   "outputs": [],
   "source": [
    "type(a,b,c,d,e,f)"
   ]
  },
  {
   "cell_type": "code",
   "execution_count": null,
   "id": "c5246858",
   "metadata": {},
   "outputs": [],
   "source": [
    "type(a), type(b), type(c), type(d), type(e), type(f)"
   ]
  },
  {
   "cell_type": "markdown",
   "id": "08a09b5d",
   "metadata": {},
   "source": [
    "## Data Structures"
   ]
  },
  {
   "cell_type": "code",
   "execution_count": null,
   "id": "7508a1d6",
   "metadata": {},
   "outputs": [],
   "source": [
    "x = (\"apple\", \"banana\", \"cherry\")\n",
    "type(x)"
   ]
  },
  {
   "cell_type": "code",
   "execution_count": null,
   "id": "9d33677b",
   "metadata": {},
   "outputs": [],
   "source": [
    "x = [\"apple\", \"banana\", \"cherry\"]\n",
    "type(x)"
   ]
  },
  {
   "cell_type": "code",
   "execution_count": null,
   "id": "f69eba60",
   "metadata": {},
   "outputs": [],
   "source": [
    "x = {\"name\": \"John\", \"age\":36}\n",
    "type(x)"
   ]
  },
  {
   "cell_type": "code",
   "execution_count": null,
   "id": "735c6100",
   "metadata": {},
   "outputs": [],
   "source": [
    "x = {\"apple\", \"banana\", \"cherry\"}\n",
    "type(x)"
   ]
  },
  {
   "cell_type": "markdown",
   "id": "4dedf404",
   "metadata": {},
   "source": [
    "#List\n",
    "1.Allows heterogenous\n",
    "2.Index starts from 0\n",
    "3.Mutable using index\n",
    "4.[]\"\""
   ]
  },
  {
   "cell_type": "code",
   "execution_count": null,
   "id": "f3d22c35",
   "metadata": {},
   "outputs": [],
   "source": [
    "sample_list=[12,43,56,\"hi\",1+2j,6.7]\n",
    "sample_list"
   ]
  },
  {
   "cell_type": "code",
   "execution_count": null,
   "id": "807c8158",
   "metadata": {},
   "outputs": [],
   "source": [
    "type(sample_list)"
   ]
  },
  {
   "cell_type": "code",
   "execution_count": null,
   "id": "fdf49992",
   "metadata": {},
   "outputs": [],
   "source": [
    "sample_list[0]"
   ]
  },
  {
   "cell_type": "code",
   "execution_count": null,
   "id": "db5a6afa",
   "metadata": {},
   "outputs": [],
   "source": [
    "sample_list[3]"
   ]
  },
  {
   "cell_type": "code",
   "execution_count": null,
   "id": "c04aa1d6",
   "metadata": {},
   "outputs": [],
   "source": [
    "sample_list[10]"
   ]
  },
  {
   "cell_type": "code",
   "execution_count": null,
   "id": "026c7927",
   "metadata": {},
   "outputs": [],
   "source": [
    "sample_list[20]"
   ]
  },
  {
   "cell_type": "code",
   "execution_count": null,
   "id": "f91fcf54",
   "metadata": {},
   "outputs": [],
   "source": [
    "sample_list[2]"
   ]
  },
  {
   "cell_type": "code",
   "execution_count": null,
   "id": "7e6ff90e",
   "metadata": {},
   "outputs": [],
   "source": [
    "sample_list[2]=3.5\n",
    "sample_list"
   ]
  },
  {
   "cell_type": "code",
   "execution_count": null,
   "id": "c9dce273",
   "metadata": {},
   "outputs": [],
   "source": [
    "sample_list.reverse()"
   ]
  },
  {
   "cell_type": "code",
   "execution_count": null,
   "id": "5ae5fab1",
   "metadata": {},
   "outputs": [],
   "source": [
    "sample_list"
   ]
  },
  {
   "cell_type": "code",
   "execution_count": null,
   "id": "15523476",
   "metadata": {},
   "outputs": [],
   "source": [
    "sample_list=[21,34,65,12,8.8]"
   ]
  },
  {
   "cell_type": "code",
   "execution_count": null,
   "id": "954f1629",
   "metadata": {},
   "outputs": [],
   "source": [
    "sample_list.sort()\n",
    "sample_list"
   ]
  },
  {
   "cell_type": "markdown",
   "id": "b09cdf3e",
   "metadata": {},
   "source": [
    "## Tuple\n",
    "1. Allows heterogeneous\n",
    "2. Index starts from 0 and retrieve using index\n",
    "3. cannot change the data once declared - immutable\n",
    "4. ()"
   ]
  },
  {
   "cell_type": "code",
   "execution_count": null,
   "id": "e7903fdf",
   "metadata": {},
   "outputs": [],
   "source": [
    "sample_tuple = (1,56,3.5,\"hi\",1+2j)\n",
    "sample_tuple"
   ]
  },
  {
   "cell_type": "code",
   "execution_count": null,
   "id": "cc15ca06",
   "metadata": {},
   "outputs": [],
   "source": [
    "sample_tuple = 1,56,3.5,\"hii\",1+2j\n",
    "sample_tuple"
   ]
  },
  {
   "cell_type": "code",
   "execution_count": null,
   "id": "8cb80b89",
   "metadata": {},
   "outputs": [],
   "source": [
    "type(sample_tuple)"
   ]
  },
  {
   "cell_type": "code",
   "execution_count": null,
   "id": "3095562d",
   "metadata": {},
   "outputs": [],
   "source": [
    "sample_tuple[4]"
   ]
  },
  {
   "cell_type": "code",
   "execution_count": null,
   "id": "e47082b2",
   "metadata": {},
   "outputs": [],
   "source": [
    "sample_tuple.reverse()"
   ]
  },
  {
   "cell_type": "code",
   "execution_count": null,
   "id": "026777bd",
   "metadata": {},
   "outputs": [],
   "source": [
    "sample_tuple[3]"
   ]
  },
  {
   "cell_type": "code",
   "execution_count": null,
   "id": "3b3f5d11",
   "metadata": {},
   "outputs": [],
   "source": [
    "sample_tuple[3] = 13"
   ]
  },
  {
   "cell_type": "code",
   "execution_count": null,
   "id": "2d4f51ec",
   "metadata": {},
   "outputs": [],
   "source": [
    "tuple=(10,20,30)            ##conversion to list\n",
    "name_list=list(tuple)\n",
    "name_list"
   ]
  },
  {
   "cell_type": "code",
   "execution_count": null,
   "id": "5ed9678f",
   "metadata": {},
   "outputs": [],
   "source": [
    "name_list.append(40)        ##addition to tuple by converting into list\n",
    "name_list"
   ]
  },
  {
   "cell_type": "markdown",
   "id": "5a9f3f10",
   "metadata": {},
   "source": [
    "## Set\n",
    "1. Add heterogeneous\n",
    "2. Does not allow duplicates\n",
    "3. cannot access using index\n",
    "4. Immutable using index\n",
    "5. ordered-first place"
   ]
  },
  {
   "cell_type": "code",
   "execution_count": null,
   "id": "d418e1d3",
   "metadata": {},
   "outputs": [],
   "source": [
    "sample_set = {1,43,23,45,67,22,21,32,0,25,3,66,66,0,23,43,1,\"a\",\"abc\"}\n",
    "type(sample_set)"
   ]
  },
  {
   "cell_type": "code",
   "execution_count": null,
   "id": "06b7e997",
   "metadata": {},
   "outputs": [],
   "source": [
    "sample_set"
   ]
  },
  {
   "cell_type": "code",
   "execution_count": null,
   "id": "f1391414",
   "metadata": {},
   "outputs": [],
   "source": [
    "sample_set[2]"
   ]
  },
  {
   "cell_type": "code",
   "execution_count": null,
   "id": "c33cdff7",
   "metadata": {},
   "outputs": [],
   "source": [
    "sample_set.remove(43)\n",
    "sample_set"
   ]
  },
  {
   "cell_type": "code",
   "execution_count": null,
   "id": "1c857ec1",
   "metadata": {},
   "outputs": [],
   "source": [
    "sample_set.add(99)\n",
    "sample_set"
   ]
  },
  {
   "cell_type": "code",
   "execution_count": null,
   "id": "6f927a98",
   "metadata": {},
   "outputs": [],
   "source": [
    "sample_set.pop()     ###pop randomly picks an element"
   ]
  },
  {
   "cell_type": "markdown",
   "id": "d58e1079",
   "metadata": {},
   "source": [
    "## Dictionary\n",
    "1. dictionary has key value pair datastructure\n",
    "2. key is unique and values can be duplicated\n",
    "3. can retrieve the value using key\n",
    "4. can change the value using key\n",
    "5. key is immutable\n"
   ]
  },
  {
   "cell_type": "code",
   "execution_count": null,
   "id": "c4e49c1e",
   "metadata": {},
   "outputs": [],
   "source": [
    "sample_dict = {\"a\":\"alpha\",1:\"first\",2:\"second\",3:\"third\",1:\"fourth\",5:\"fourth\",6:\"sixth\"}\n",
    "type(sample_dict)"
   ]
  },
  {
   "cell_type": "code",
   "execution_count": null,
   "id": "c505836c",
   "metadata": {},
   "outputs": [],
   "source": [
    "sample_dict"
   ]
  },
  {
   "cell_type": "code",
   "execution_count": null,
   "id": "c4f4b702",
   "metadata": {},
   "outputs": [],
   "source": [
    "sample_dict[\"a\"]"
   ]
  },
  {
   "cell_type": "code",
   "execution_count": null,
   "id": "4f049485",
   "metadata": {},
   "outputs": [],
   "source": [
    "sample_dict[5]"
   ]
  },
  {
   "cell_type": "code",
   "execution_count": null,
   "id": "1199a2eb",
   "metadata": {},
   "outputs": [],
   "source": [
    "sample_dict[5] = \"fifth\"\n",
    "sample_dict"
   ]
  },
  {
   "cell_type": "code",
   "execution_count": null,
   "id": "3157f6ad",
   "metadata": {},
   "outputs": [],
   "source": [
    "sample_dict[7] = \"seventh\"\n",
    "sample_dict"
   ]
  },
  {
   "cell_type": "code",
   "execution_count": null,
   "id": "907fcae1",
   "metadata": {},
   "outputs": [],
   "source": [
    "sample_dict.reverse()"
   ]
  },
  {
   "cell_type": "markdown",
   "id": "9496db44",
   "metadata": {},
   "source": [
    "## String\n",
    "1. string can be retrieved using index\n",
    "2. string is immutable\n"
   ]
  },
  {
   "cell_type": "code",
   "execution_count": 3,
   "id": "d8c2f3cd",
   "metadata": {},
   "outputs": [
    {
     "data": {
      "text/plain": [
       "str"
      ]
     },
     "execution_count": 3,
     "metadata": {},
     "output_type": "execute_result"
    }
   ],
   "source": [
    "a = \"hi how are you?\"\n",
    "type(a)"
   ]
  },
  {
   "cell_type": "code",
   "execution_count": 4,
   "id": "b2794660",
   "metadata": {},
   "outputs": [
    {
     "data": {
      "text/plain": [
       "'i'"
      ]
     },
     "execution_count": 4,
     "metadata": {},
     "output_type": "execute_result"
    }
   ],
   "source": [
    "a[1]"
   ]
  },
  {
   "cell_type": "code",
   "execution_count": 5,
   "id": "d8f4325b",
   "metadata": {},
   "outputs": [
    {
     "data": {
      "text/plain": [
       "' '"
      ]
     },
     "execution_count": 5,
     "metadata": {},
     "output_type": "execute_result"
    }
   ],
   "source": [
    "a[10]"
   ]
  },
  {
   "cell_type": "code",
   "execution_count": 7,
   "id": "51ed4480",
   "metadata": {},
   "outputs": [
    {
     "ename": "TypeError",
     "evalue": "'str' object does not support item assignment",
     "output_type": "error",
     "traceback": [
      "\u001b[1;31m---------------------------------------------------------------------------\u001b[0m",
      "\u001b[1;31mTypeError\u001b[0m                                 Traceback (most recent call last)",
      "\u001b[1;32m<ipython-input-7-7a18bd9ddf77>\u001b[0m in \u001b[0;36m<module>\u001b[1;34m\u001b[0m\n\u001b[1;32m----> 1\u001b[1;33m \u001b[0ma\u001b[0m\u001b[1;33m[\u001b[0m\u001b[1;36m3\u001b[0m\u001b[1;33m]\u001b[0m \u001b[1;33m=\u001b[0m \u001b[1;34m'u'\u001b[0m\u001b[1;33m\u001b[0m\u001b[1;33m\u001b[0m\u001b[0m\n\u001b[0m",
      "\u001b[1;31mTypeError\u001b[0m: 'str' object does not support item assignment"
     ]
    }
   ],
   "source": [
    "a[3] = 'u'"
   ]
  },
  {
   "cell_type": "code",
   "execution_count": null,
   "id": "c49fe4c4",
   "metadata": {},
   "outputs": [],
   "source": []
  },
  {
   "cell_type": "code",
   "execution_count": null,
   "id": "d820da90",
   "metadata": {},
   "outputs": [],
   "source": []
  },
  {
   "cell_type": "code",
   "execution_count": null,
   "id": "466ceca9",
   "metadata": {},
   "outputs": [],
   "source": []
  },
  {
   "cell_type": "code",
   "execution_count": null,
   "id": "bc0ee29c",
   "metadata": {},
   "outputs": [],
   "source": []
  },
  {
   "cell_type": "code",
   "execution_count": null,
   "id": "03b216f2",
   "metadata": {},
   "outputs": [],
   "source": []
  },
  {
   "cell_type": "code",
   "execution_count": null,
   "id": "be7aa3ee",
   "metadata": {},
   "outputs": [],
   "source": []
  },
  {
   "cell_type": "code",
   "execution_count": null,
   "id": "328c28a8",
   "metadata": {},
   "outputs": [],
   "source": []
  },
  {
   "cell_type": "code",
   "execution_count": null,
   "id": "d2c726f6",
   "metadata": {},
   "outputs": [],
   "source": []
  },
  {
   "cell_type": "code",
   "execution_count": null,
   "id": "bf2e5333",
   "metadata": {},
   "outputs": [],
   "source": []
  },
  {
   "cell_type": "code",
   "execution_count": null,
   "id": "ea367401",
   "metadata": {},
   "outputs": [],
   "source": []
  },
  {
   "cell_type": "code",
   "execution_count": null,
   "id": "27b2143d",
   "metadata": {},
   "outputs": [],
   "source": []
  }
 ],
 "metadata": {
  "kernelspec": {
   "display_name": "Python 3",
   "language": "python",
   "name": "python3"
  },
  "language_info": {
   "codemirror_mode": {
    "name": "ipython",
    "version": 3
   },
   "file_extension": ".py",
   "mimetype": "text/x-python",
   "name": "python",
   "nbconvert_exporter": "python",
   "pygments_lexer": "ipython3",
   "version": "3.8.8"
  }
 },
 "nbformat": 4,
 "nbformat_minor": 5
}
